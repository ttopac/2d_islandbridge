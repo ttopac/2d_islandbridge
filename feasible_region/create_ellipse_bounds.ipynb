{
 "metadata": {
  "language_info": {
   "codemirror_mode": {
    "name": "ipython",
    "version": 3
   },
   "file_extension": ".py",
   "mimetype": "text/x-python",
   "name": "python",
   "nbconvert_exporter": "python",
   "pygments_lexer": "ipython3",
   "version": "3.7.3-final"
  },
  "orig_nbformat": 2,
  "kernelspec": {
   "name": "python3",
   "display_name": "Python 3",
   "language": "python"
  }
 },
 "nbformat": 4,
 "nbformat_minor": 2,
 "cells": [
  {
   "cell_type": "code",
   "execution_count": 1,
   "metadata": {},
   "outputs": [],
   "source": [
    "import os, sys\n",
    "import pandas as pd\n",
    "import numpy as np\n",
    "scriptpath = os.path.realpath(os.path.dirname(sys.argv[0]))\n",
    "os.chdir(scriptpath)"
   ]
  },
  {
   "cell_type": "code",
   "execution_count": 2,
   "metadata": {},
   "outputs": [],
   "source": [
    "#Re-create the CSV files containing experiment data (combined_k0Low_high)\n",
    "# import utils\n",
    "# filename = \"combined_k0_lowhigh.csv\"\n",
    "# utils.createK0LowHighCSVfromGsheets(filename)"
   ]
  },
  {
   "cell_type": "code",
   "execution_count": 3,
   "metadata": {},
   "outputs": [],
   "source": [
    "df = pd.read_csv(\"combined_k0_lowhigh.csv\")\n",
    "relevant_df = df.loc[df['leg_count'].isin([2,4,6])]\n",
    "max_displ = relevant_df['displacement'].max()\n",
    "min_displ = relevant_df['displacement'].min()\n",
    "# k0low_min = relevant_df['nStiffness'].min()\n",
    "# k0low_max = relevant_df['nStiffness'].max()\n",
    "# k0high_min = relevant_df['nStiffnessMax'].min()\n",
    "# k0high_max = relevant_df['nStiffnessMax'].max()"
   ]
  },
  {
   "cell_type": "code",
   "execution_count": 4,
   "metadata": {},
   "outputs": [],
   "source": [
    "num_points = 25\n",
    "dmax_range = np.linspace(max_displ, min_displ, num_points)\n",
    "# k0low_range = np.linspace(k0low_min, k0low_max, num_points)\n",
    "# k0high_range = np.linspace(k0high_min, k0high_max, num_points)\n",
    "k0_range = np.zeros((2,num_points))\n",
    "# dmax_range = np.zeros((2,num_points))\n",
    "\n",
    "for count, displ in enumerate(dmax_range):\n",
    "    range_df = relevant_df.loc[(relevant_df['displacement'] >= displ-1.5) & (relevant_df['displacement'] <= displ+1.5)]\n",
    "    k0_low_ave = range_df['nStiffness'].mean()\n",
    "    k0_high_ave = range_df['nStiffnessMax'].mean()\n",
    "    k0_range[0,count] = k0_low_ave\n",
    "    k0_range[1,count] = k0_high_ave\n",
    "\n",
    "# for count, k0low in enumerate(k0low_range):\n",
    "#     range_df = relevant_df.loc[(relevant_df['nStiffness'] >= (k0low-k0low*0.1)) & (relevant_df['nStiffness'] <= (k0low+k0low*0.1))]\n",
    "#     dmax_range[0,count] = range_df['displacement'].mean()\n",
    "\n",
    "# for count, k0high in enumerate(k0high_range):\n",
    "#     range_df = relevant_df.loc[(relevant_df['nStiffnessMax'] >= (k0high-k0high*0.1)) & (relevant_df['nStiffnessMax'] <= (k0high+k0high*0.1))]\n",
    "#     dmax_range[1,count] = range_df['displacement'].mean()"
   ]
  },
  {
   "cell_type": "code",
   "execution_count": 5,
   "metadata": {},
   "outputs": [],
   "source": [
    "#Dmax split into equal points.\n",
    "np.savetxt(\"246_dmax_low.dat\", dmax_range)\n",
    "np.savetxt(\"246_dmax_high.dat\", dmax_range)\n",
    "np.savetxt(\"246_k0low.dat\", k0_range[0])\n",
    "np.savetxt(\"246_k0high.dat\", k0_range[1])"
   ]
  },
  {
   "cell_type": "code",
   "execution_count": 6,
   "metadata": {},
   "outputs": [],
   "source": [
    "#K0 split into equal points.\n",
    "# np.savetxt(\"246_dmax_low.dat\", dmax_range[0])\n",
    "# np.savetxt(\"246_dmax_high.dat\", dmax_range[1])\n",
    "# np.savetxt(\"246_k0low.dat\", k0low_range)\n",
    "# np.savetxt(\"246_k0high.dat\", k0high_range)"
   ]
  }
 ]
}