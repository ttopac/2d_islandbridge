{
 "metadata": {
  "language_info": {
   "codemirror_mode": {
    "name": "ipython",
    "version": 3
   },
   "file_extension": ".py",
   "mimetype": "text/x-python",
   "name": "python",
   "nbconvert_exporter": "python",
   "pygments_lexer": "ipython3",
   "version": "3.7.3-final"
  },
  "orig_nbformat": 2,
  "kernelspec": {
   "name": "python3",
   "display_name": "Python 3",
   "language": "python"
  }
 },
 "nbformat": 4,
 "nbformat_minor": 2,
 "cells": [
  {
   "cell_type": "code",
   "execution_count": 1,
   "metadata": {},
   "outputs": [],
   "source": [
    "#Import necessary packages\n",
    "import numpy as np\n",
    "import matplotlib.pyplot as plt\n",
    "import xpress as xp\n",
    "import math\n",
    "import json"
   ]
  },
  {
   "cell_type": "code",
   "execution_count": 2,
   "metadata": {},
   "outputs": [],
   "source": [
    "#Input data\n",
    "#k0 and dmax data established from serpentine simulations and averaging\n",
    "dmaxave = np.fromfile('dmax_dummy.dat', sep=\"\\n\")\n",
    "k0lowave = np.fromfile('k0lowave_dummy.dat', sep=\"\\n\")*1e5\n",
    "k0highave = np.fromfile('k0highave_dummy.dat', sep=\"\\n\")*1e5\n",
    "\n",
    "#Create the xy pairs from dmax and k0s\n",
    "xy_left = np.vstack((k0lowave, dmaxave)) #Left bounding points\n",
    "xy_right = np.vstack((k0highave, dmaxave)) #Right bounding points\n",
    "\n",
    "#Add the top and bottom bounding points\n",
    "num_boundpoints = xy_left.shape[1]\n",
    "xy_top_xs = np.linspace(xy_left[0][0], xy_right[0][0], num_boundpoints)\n",
    "xy_bottom_xs = np.linspace(xy_left[0][-1], xy_right[0][-1], num_boundpoints)\n",
    "xy_top_ys = np.repeat(dmaxave[0], num_boundpoints)\n",
    "xy_bottom_ys = np.repeat(dmaxave[-1], num_boundpoints)\n",
    "xy_top = np.vstack((xy_top_xs, xy_top_ys)) #Top bounding points\n",
    "xy_bottom = np.vstack((xy_bottom_xs, xy_bottom_ys)) #Bottom bounding points\n",
    "\n",
    "#Add the ellipse definition\n",
    "with open('ellipse_def.json', 'r', encoding='utf-8') as f:\n",
    "    ellipse = json.load(f)\n",
    "a = ellipse[\"a\"] * 0.6\n",
    "b = ellipse[\"b\"] * 0.6\n",
    "x0 = ellipse[\"x0\"]\n",
    "y0 = ellipse[\"y0\"]\n",
    "theta = ellipse[\"theta\"]"
   ]
  },
  {
   "cell_type": "code",
   "execution_count": 3,
   "metadata": {},
   "outputs": [],
   "source": [
    "#Define plotting functions\n",
    "def plot_ellipse (ax, a, b, x0, y0, theta):\n",
    "    t = np.linspace(0,2*math.pi,100)\n",
    "    x = x0 + a*np.cos(t)*np.cos(theta) - b*np.sin(t)*np.sin(theta)\n",
    "    y = y0 + b*np.sin(t)*np.cos(theta) + a*np.cos(t)*np.sin(theta)\n",
    "    ax.plot(x,y)\n",
    "\n",
    "def plot_xypoints(ax, xy):\n",
    "    ax.scatter(xy[0], xy[1])"
   ]
  },
  {
   "cell_type": "code",
   "execution_count": 4,
   "metadata": {},
   "outputs": [
    {
     "output_type": "execute_result",
     "data": {
      "text/plain": [
       "(0.0, 25.0)"
      ]
     },
     "metadata": {},
     "execution_count": 4
    }
   ],
   "source": [
    "%matplotlib tk\n",
    "fig = plt.figure()\n",
    "ax = fig.add_subplot(111)\n",
    "plot_xypoints(ax, xy_left)\n",
    "plot_xypoints(ax, xy_right)\n",
    "plot_xypoints(ax, xy_top)\n",
    "plot_xypoints(ax, xy_bottom)\n",
    "plot_ellipse (ax, a, b, x0, y0, theta)\n",
    "ax.set_xlim([0, 25])\n",
    "ax.set_ylim([0, 25])"
   ]
  },
  {
   "cell_type": "code",
   "execution_count": null,
   "metadata": {},
   "outputs": [],
   "source": []
  }
 ]
}