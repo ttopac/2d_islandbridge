{
 "cells": [
  {
   "cell_type": "code",
   "execution_count": 2,
   "metadata": {},
   "outputs": [],
   "source": [
    "# import libraries\n",
    "import xpress as xp\n",
    "import numpy as np"
   ]
  },
  {
   "cell_type": "code",
   "execution_count": 3,
   "metadata": {},
   "outputs": [],
   "source": [
    "#Empirical parameters (10leg)\n",
    "k001 = 5.41E-07*1e4\n",
    "kact_real = np.asarray((5.41E-07, 8.85E-07, 1.36E-06, 1.98E-06, 2.78E-06, 3.77E-06, 4.97E-06, 6.41E-06, 8.08E-06, 1.00E-05, 1.18E-05))"
   ]
  },
  {
   "cell_type": "code",
   "execution_count": 2,
   "metadata": {},
   "outputs": [],
   "source": [
    "#Empirical parameters (2leg)\n",
    "k001 = 3.66E-06*1e4\n",
    "kact_real = np.asarray((3.66E-06, 5.99E-06, 9.19E-06, 1.34E-05, 1.89E-05, 2.56E-05, 3.38E-05, 4.36E-05, 5.52E-05, 6.86E-05, 8.41E-05))"
   ]
  },
  {
   "cell_type": "code",
   "execution_count": 2,
   "metadata": {},
   "outputs": [],
   "source": [
    "#Empirical parameters (4leg)\n",
    "k001 = 1.84E-06*1e4\n",
    "kact_real = np.asarray((1.84E-06, 3.00E-06, 4.61E-06, 6.70E-06, 9.44E-06, 1.28E-05, 1.69E-05, 2.18E-05, 2.76E-05, 3.43E-05, 4.20E-05))"
   ]
  },
  {
   "cell_type": "code",
   "execution_count": 2,
   "metadata": {},
   "outputs": [],
   "source": [
    "#Empirical parameters (6leg)\n",
    "k001 = 1.15E-06*1e4\n",
    "kact_real = np.asarray((1.15E-06, 1.87E-06, 2.95E-06, 4.20E-06, 5.89E-06, 7.98E-06, 1.05E-05, 1.36E-05, 1.72E-05, 2.09E-05, 2.58E-05))"
   ]
  },
  {
   "cell_type": "code",
   "execution_count": 2,
   "metadata": {},
   "outputs": [],
   "source": [
    "#Empirical parameters (8leg)\n",
    "k001 = 7.65E-07*1e4\n",
    "kact_real = np.asarray((7.65E-07, 1.25E-06, 1.92E-06, 2.80E-06, 3.93E-06, 5.33E-06, 7.03E-06, 9.06E-06, 1.15E-05, 1.40E-05, 2.43E-05))"
   ]
  },
  {
   "cell_type": "code",
   "execution_count": 4,
   "metadata": {},
   "outputs": [],
   "source": [
    "#Common parameters\n",
    "kact_real *= 1e4\n",
    "width = (0.01, 0.012, 0.014, 0.016, 0.018, 0.02, 0.022, 0.024, 0.026, 0.028)"
   ]
  },
  {
   "cell_type": "code",
   "execution_count": 5,
   "metadata": {},
   "outputs": [],
   "source": [
    "p = xp.problem()\n",
    "c = xp.vars(7, name=\"constants\", vartype=xp.continuous)\n",
    "pred = xp.vars(len(width), name=\"pred\", vartype=xp.continuous)\n",
    "p.addVariable(c)"
   ]
  },
  {
   "cell_type": "code",
   "execution_count": 6,
   "metadata": {},
   "outputs": [],
   "source": [
    "p.addConstraint(c[0] + c[1]*0.01 + c[2]*0.01**2 + c[3]*0.01**3 + c[4]*0.01**4 == 1)"
   ]
  },
  {
   "cell_type": "code",
   "execution_count": 7,
   "metadata": {},
   "outputs": [],
   "source": [
    "for i in range(len(width)):\n",
    "    pred[i] = (k001 * (c[0] + c[1]*width[i] + c[2]*width[i]**2 + c[3]*width[i]**3 + c[4]*width[i]**4))\n",
    "sum_of_squares = xp.Sum((kact_real[i] - pred[i])**2 for i in range(len(width)))\n",
    "# sum_of_squares = xp.Sum((kact_real[i] - (c[0] + c[1]*width[i] + c[2]*width[i]**2))**2 for i in range(len(width)))\n",
    "p.setObjective(sum_of_squares, xp.minimize)"
   ]
  },
  {
   "cell_type": "code",
   "execution_count": 8,
   "metadata": {},
   "outputs": [
    {
     "output_type": "stream",
     "name": "stdout",
     "text": [
      "FICO Xpress v8.10.1, Hyper, solve started 19:58:19, Jan 21, 2021\nHeap usage: 331KB (peak 331KB, 521KB system)\nMinimizing QP noname\nOriginal problem has:\n         1 rows            7 cols            5 elements\n        25 qobjelem\nPresolved problem has:\n         1 rows            5 cols            5 elements\n        25 qobjelem\nPresolve finished in 0 seconds\nHeap usage: 333KB (peak 343KB, 522KB system)\n\nCoefficient range                    original                 solved        \n  Coefficients   [min,max] : [ 1.00e-08,  1.00e+00] / [ 5.24e-01,  1.00e+00]\n  RHS and bounds [min,max] : [ 1.00e+00,  1.00e+00] / [ 1.00e+00,  1.00e+00]\n  Objective      [min,max] : [ 1.54e-09,  4.41e-03] / [ 4.41e-03,  1.03e-01]\n  Quadratic      [min,max] : [ 4.65e-17,  5.85e-04] / [ 5.85e-04,  2.09e-01]\nAutoscaling applied standard scaling\n\nBarrier cache sizes : L1=16K L2=8192K\nUsing AVX support\nCores per CPU (CORESPERCPU): 8\nBarrier starts after 0 seconds, using up to 8 threads, 4 cores\nMatrix ordering - Dense cols.:      5   NZ(L):        27   Flops:           70\n \n  Its   P.inf      D.inf      U.inf      Primal obj.     Dual obj.      Compl.\n   0   6.31e+00   1.00e+02   0.00e+00   7.6126830e-01  -1.0421460e+00   1.0e+03\n   1   6.74e-02   1.07e+00   0.00e+00   5.8431137e-05  -1.0152366e+02   1.1e+02\n   2   3.37e-02   5.34e-01   0.00e+00   8.4149084e-05  -5.0978559e+01   5.3e+01\n   3   1.68e-02   2.67e-01   0.00e+00   1.1622457e-04  -2.5518096e+01   2.6e+01\n   4   8.40e-03   1.34e-01   0.00e+00   1.3677007e-04  -1.2774749e+01   1.3e+01\n   5   4.20e-03   6.69e-02   0.00e+00   1.4768322e-04  -6.3966370e+00   6.5e+00\n   6   2.10e-03   3.35e-02   0.00e+00   1.5235321e-04  -3.2043472e+00   3.3e+00\n   7   3.20e-06   7.93e-05   0.00e+00   1.5117108e-04  -8.6621315e-03   8.9e-03\n   8   4.50e-08   1.08e-06   0.00e+00   7.2772217e-05  -1.2477178e-04   2.0e-04\n   9   2.08e-17   3.97e-18   0.00e+00   6.3338104e-06  -4.1935871e-05   4.8e-05\n  10   1.54e-16   1.66e-17   0.00e+00   7.7279894e-07  -2.0743583e-06   2.8e-06\n  11   1.52e-16   1.14e-17   0.00e+00   1.5783987e-07  -2.1133062e-07   3.7e-07\nBarrier method finished in 0 seconds\nUncrunching matrix\nOptimal solution found\nBarrier solved problem\n  11 barrier iterations in 0s\n\nFinal objective                       : 1.578398693899419e-07\n  Max primal violation      (abs/rel) : 1.518e-16 / 1.518e-16\n  Max dual violation        (abs/rel) :       0.0 /       0.0\n  Max complementarity viol. (abs/rel) : 1.872e-07 / 2.405e-13\n"
     ]
    }
   ],
   "source": [
    "# p.controls.xslp_convergenceops = 6175 #6175=(bits 0-4, 11, 12), default=(bits 0-9, 11, 12)\n",
    "p.solve()"
   ]
  },
  {
   "cell_type": "code",
   "execution_count": 9,
   "metadata": {},
   "outputs": [
    {
     "output_type": "stream",
     "name": "stdout",
     "text": [
      "1.5783986938994188e-07\n0.04042707290295169\n3.9735899103769077\n1379.8048808718158\n778365.2138009929\n349132.61051044567\n0.0\n0.0\n"
     ]
    }
   ],
   "source": [
    "print (p.getObjVal())\n",
    "print (p.getSolution(c[0]))\n",
    "print (p.getSolution(c[1]))\n",
    "print (p.getSolution(c[2]))\n",
    "print (p.getSolution(c[3]))\n",
    "print (p.getSolution(c[4]))\n",
    "print (p.getSolution(c[5]))\n",
    "print (p.getSolution(c[6]))"
   ]
  },
  {
   "cell_type": "code",
   "execution_count": 9,
   "metadata": {},
   "outputs": [
    {
     "name": "stdout",
     "output_type": "stream",
     "text": [
      "0.0115\n",
      "0.0115\n",
      "0.018973149275054432\n",
      "0.0187\n",
      "0.02914558703239781\n",
      "0.029500000000000002\n",
      "0.04243226089015237\n",
      "0.041999999999999996\n",
      "0.05924820408286027\n",
      "0.0589\n",
      "0.08000853546148369\n",
      "0.0798\n",
      "0.10512845949340455\n",
      "0.105\n",
      "0.13502326626242486\n",
      "0.136\n",
      "0.17010833146876644\n",
      "0.17200000000000001\n",
      "0.21079911642907112\n",
      "0.209\n"
     ]
    }
   ],
   "source": [
    "for i in range(len(width)):\n",
    "    print (p.getSolution(pred[i]))\n",
    "    print (kact_real[i])"
   ]
  },
  {
   "cell_type": "code",
   "execution_count": null,
   "metadata": {},
   "outputs": [],
   "source": []
  }
 ],
 "metadata": {
  "kernelspec": {
   "display_name": "Python 3",
   "language": "python",
   "name": "python3"
  },
  "language_info": {
   "codemirror_mode": {
    "name": "ipython",
    "version": 3
   },
   "file_extension": ".py",
   "mimetype": "text/x-python",
   "name": "python",
   "nbconvert_exporter": "python",
   "pygments_lexer": "ipython3",
   "version": "3.7.3-final"
  }
 },
 "nbformat": 4,
 "nbformat_minor": 4
}